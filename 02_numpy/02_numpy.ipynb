{
 "cells": [
  {
   "cell_type": "markdown",
   "metadata": {},
   "source": [
    "<center>\n",
    "    <h1> Scientific Programming in Python  </h1>\n",
    "    <h2> Topic 2: NumPy and Efficient Numerical Programming </h2> \n",
    "</center>\n",
    "\n",
    "_Notebook created by Martín Villanueva - `martin.villanueva@usm.cl` - DI UTFSM - April 2017._"
   ]
  },
  {
   "cell_type": "code",
   "execution_count": 1,
   "metadata": {
    "collapsed": true
   },
   "outputs": [],
   "source": [
    "%matplotlib inline\n",
    "import numpy as np\n",
    "import matplotlib.pyplot as plt\n",
    "import scipy as sp"
   ]
  },
  {
   "cell_type": "markdown",
   "metadata": {},
   "source": [
    "## Table of Contents\n",
    "* [1.- Useful Magics](#magics)\n",
    "* [2.- Basic NumPy Operations](#basic_numpy)\n",
    "* [3.- Internals of NumPy](#internals)\n",
    "* [4.- Efficient Programming in NumPy](#efficient)\n",
    "* [5.- Vectorized Algorithms in NumPy](#vectorized)\n",
    "* [6.- Bonus ](#bonus)"
   ]
  },
  {
   "cell_type": "markdown",
   "metadata": {},
   "source": [
    "<div id='magics' />\n",
    "## Useful magic built-in functions for time-profiling"
   ]
  },
  {
   "cell_type": "markdown",
   "metadata": {},
   "source": [
    "* **time**: See how long it takes a code to run."
   ]
  },
  {
   "cell_type": "code",
   "execution_count": 34,
   "metadata": {},
   "outputs": [
    {
     "name": "stdout",
     "output_type": "stream",
     "text": [
      "CPU times: user 670 µs, sys: 5 µs, total: 675 µs\n",
      "Wall time: 719 µs\n"
     ]
    },
    {
     "data": {
      "text/plain": [
       "{3}"
      ]
     },
     "execution_count": 34,
     "metadata": {},
     "output_type": "execute_result"
    }
   ],
   "source": [
    "%time {1+2 for i in range(10000)}"
   ]
  },
  {
   "cell_type": "markdown",
   "metadata": {},
   "source": [
    "\n",
    "* **timeit**: \n",
    "    * _See how long a code takes to run averaged over multiple runs_.  \n",
    "    * It will limit the number of runs depending on how long the script takes to execute.  \n",
    "    * Provide an accurate time calculation by reducing the impact of startup or shutdown costs on the time calculation by executing the code repeatedly."
   ]
  },
  {
   "cell_type": "code",
   "execution_count": 35,
   "metadata": {},
   "outputs": [
    {
     "name": "stdout",
     "output_type": "stream",
     "text": [
      "1000 loops, best of 3: 446 µs per loop\n"
     ]
    }
   ],
   "source": [
    "%timeit [1+2 for i in range(10000)]"
   ]
  },
  {
   "cell_type": "code",
   "execution_count": 36,
   "metadata": {},
   "outputs": [
    {
     "name": "stdout",
     "output_type": "stream",
     "text": [
      "100 loops, best of 3: 435 µs per loop\n"
     ]
    }
   ],
   "source": [
    "%timeit -n 100 [1+2 for i in range(10000)]"
   ]
  },
  {
   "cell_type": "code",
   "execution_count": 37,
   "metadata": {},
   "outputs": [
    {
     "name": "stdout",
     "output_type": "stream",
     "text": [
      "1000 loops, best of 3: 367 µs per loop\n"
     ]
    }
   ],
   "source": [
    "%%timeit\n",
    "for i in range(10000):\n",
    "    1+2"
   ]
  },
  {
   "cell_type": "markdown",
   "metadata": {},
   "source": [
    "* **prun**: See how long it took each function in a script to run."
   ]
  },
  {
   "cell_type": "code",
   "execution_count": 38,
   "metadata": {
    "collapsed": true
   },
   "outputs": [],
   "source": [
    "from time import sleep\n",
    "\n",
    "def foo(): sleep(1)\n",
    "    \n",
    "def bar(): sleep(2)\n",
    "    \n",
    "def baz(): foo(),bar()"
   ]
  },
  {
   "cell_type": "code",
   "execution_count": 39,
   "metadata": {},
   "outputs": [
    {
     "name": "stdout",
     "output_type": "stream",
     "text": [
      " "
     ]
    }
   ],
   "source": [
    "%prun baz()"
   ]
  },
  {
   "cell_type": "markdown",
   "metadata": {},
   "source": [
    "<div id='basic_numpy' />\n",
    "## Basic NumPy operations\n",
    "\n",
    "The reasons of why you should use NumPy instead of any other __iterable object_ in Python are:\n",
    "* NumPy provides an ndarray structure for storing numerical data __in a contiguous way__.\n",
    "* Also implements fast __mathematical operations__ on ndarrays, that exploit this contiguity.\n",
    "* __Brevity of the syntax for array operations__. A language like C or Java would require us to write a loop for a matrix operation as simple as C=A+B."
   ]
  },
  {
   "cell_type": "markdown",
   "metadata": {},
   "source": [
    "### Creating Arrays\n",
    "\n",
    "There are several NumPy functions for creating common types of arrays. Below is a list of the most common used:"
   ]
  },
  {
   "cell_type": "code",
   "execution_count": 16,
   "metadata": {},
   "outputs": [
    {
     "name": "stdout",
     "output_type": "stream",
     "text": [
      "Zeros:\n",
      "[[ 0.  0.  0.]\n",
      " [ 0.  0.  0.]\n",
      " [ 0.  0.  0.]]\n",
      "\n",
      "Ones:\n",
      "[[ 1.  1.  1.]\n",
      " [ 1.  1.  1.]\n",
      " [ 1.  1.  1.]]\n",
      "\n",
      "Empty:\n",
      "[[ 1.  1.  1.]\n",
      " [ 1.  1.  1.]\n",
      " [ 1.  1.  1.]]\n",
      "\n",
      "Range:\n",
      "[ 0.  1.  2.  3.  4.  5.  6.  7.  8.  9.]\n",
      "\n",
      "Regular grid:\n",
      "[ 0.     0.125  0.25   0.375  0.5    0.625  0.75   0.875  1.   ]\n",
      "\n",
      "Random sequences:\n",
      "[ 4.48759752  8.02304983  5.70164223  2.68928881  7.67082038  3.78299539]\n",
      "\n",
      "Array constructor\n",
      "[ 2  3  5 10 -1]\n"
     ]
    }
   ],
   "source": [
    "# Arrays of zeros: np.zeros(shape)\n",
    "print(\"Zeros:\")\n",
    "print( np.zeros((3,3)) )\n",
    "\n",
    "# Arrays of ones: np.ones(shape)\n",
    "print(\"\\nOnes:\")\n",
    "print( np.ones((3,3)) )\n",
    "\n",
    "# Empty array: np.empty(shape)\n",
    "print(\"\\nEmpty:\")\n",
    "print( np.empty((3,3)) )\n",
    "\n",
    "# Range of values: np.range(start, stop, step)\n",
    "print(\"\\nRange:\")\n",
    "print( np.arange(0., 10., 1.) )\n",
    "\n",
    "# Regular grid: np.linspace(start, end, n_values)\n",
    "print(\"\\nRegular grid:\")\n",
    "print( np.linspace(0., 1., 9) )\n",
    "\n",
    "# Random secuences: np.random\n",
    "print(\"\\nRandom sequences:\")\n",
    "print( np.random.uniform(10, size=6) )\n",
    "\n",
    "# Array constructor: np.array( python_iterable )\n",
    "print(\"\\nArray constructor\")\n",
    "print( np.array([2, 3, 5, 10, -1]) )"
   ]
  },
  {
   "cell_type": "markdown",
   "metadata": {},
   "source": [
    "### Basic Mathematical operations\n",
    "\n",
    "Most of the operations performed in NumPy are handled __element-wise__, i.e, computing C = A + B will translates into $C[i,j] = A[i,j] + B[i,j]$. (The exception is __broadcasting__, and will be explained soon).\n",
    "\n",
    "Below is a list with the most common used mathematical operations. For a comprehensive list se here: [NumPy mathematical functions](https://docs.scipy.org/doc/numpy/reference/routines.math.html)."
   ]
  },
  {
   "cell_type": "code",
   "execution_count": 19,
   "metadata": {},
   "outputs": [
    {
     "name": "stdout",
     "output_type": "stream",
     "text": [
      "Sum:\n",
      "[[ 0.13809278  0.45056127  1.15067311  0.95333595  0.90155566]\n",
      " [ 0.58561374  1.3828965   1.76715508  1.30031951  0.67983787]\n",
      " [ 1.98096078  1.34526969  1.33149992  0.36200436  1.15309025]\n",
      " [ 0.98020331  0.86997057  1.1521036   0.30679047  0.86884839]\n",
      " [ 0.65225053  0.73622175  1.36541484  0.55015163  1.36929554]]\n",
      "\n",
      "Subtraction\n",
      "[[-0.0459319  -0.21007071  0.1988305   0.46426173 -0.85936999]\n",
      " [ 0.02710266 -0.02956764  0.07541776 -0.48073892  0.49119283]\n",
      " [-0.01848722  0.18980327 -0.64660987  0.21774434  0.60112422]\n",
      " [-0.93590738  0.03943836 -0.20460856 -0.17213531  0.17466532]\n",
      " [-0.19530638 -0.54521684  0.1405073   0.39074819 -0.01429022]]\n",
      "\n",
      "Product\n",
      "[[ 0.00423997  0.03971894  0.32112876  0.17332762  0.01857145]\n",
      " [ 0.08555222  0.47788212  0.77928731  0.36493023  0.05522728]\n",
      " [ 0.98096596  0.44343131  0.33869693  0.02090864  0.2420667 ]\n",
      " [ 0.02121898  0.18882335  0.32136951  0.01612246  0.18109739]\n",
      " [ 0.09682154  0.06119027  0.46115385  0.03749567  0.46869152]]\n",
      "\n",
      "Matricial Product\n",
      "[[ 1.40039191  0.79782343  1.28474534  0.33843233  0.49874394]\n",
      " [ 1.77891374  1.6566579   2.2659593   0.88875394  1.13511119]\n",
      " [ 1.29639004  1.74637346  2.18874914  1.08748413  1.73823697]\n",
      " [ 0.88824626  0.96440093  1.22894728  0.5022224   0.57745211]\n",
      " [ 1.53827318  1.20737642  1.66830871  0.36188214  1.04995436]]\n",
      "\n",
      " Power\n",
      "[[  2.12340719e-03   1.44589277e-02   4.55289997e-01   5.02395794e-01\n",
      "    4.44907568e-04]\n",
      " [  9.38553458e-02   4.57874750e-01   8.48768673e-01   1.67928085e-01\n",
      "    3.42828224e-01]\n",
      " [  9.62825621e-01   5.89112244e-01   1.17268595e-01   8.40271389e-02\n",
      "    7.69317110e-01]\n",
      " [  4.90532509e-04   2.06756149e-01   2.24436717e-01   4.53300346e-03\n",
      "    2.72230213e-01]\n",
      " [  5.21994881e-02   9.12071893e-03   5.66950373e-01   2.21323122e-01\n",
      "    4.59009857e-01]]\n",
      "\n",
      " np.exp()\n",
      "[[ 1.04715864  1.12777344  1.96354557  2.03154957  1.02131686]\n",
      " [ 1.35846882  1.96730469  2.51252048  1.50650183  1.79591627]\n",
      " [ 2.66775363  2.15445217  1.40838692  1.33625958  2.40393563]\n",
      " [ 1.02239506  1.57570764  1.60600146  1.06964582  1.68498532]\n",
      " [ 1.25667843  1.10021152  2.12327789  1.60071422  1.96895444]]\n",
      "\n",
      " np.sin()\n",
      "[[ 0.04606414  0.11995572  0.62470353  0.65092239  0.02109127]\n",
      " [ 0.30158841  0.62619588  0.7963803   0.39841699  0.55262896]\n",
      " [ 0.83118565  0.69436454  0.33579115  0.28583182  0.76889253]\n",
      " [ 0.02214616  0.43919683  0.45622427  0.06727673  0.498404  ]\n",
      " [ 0.22648957  0.09535735  0.68380235  0.45328737  0.6268492 ]]\n",
      "\n",
      " np.cos()\n",
      "[[ 0.99893848  0.99277924  0.78086202  0.75914429  0.99977755]\n",
      " [ 0.95343822  0.77966577  0.60479618  0.91720439  0.8334274 ]\n",
      " [ 0.55599498  0.71962343  0.94193646  0.9582798   0.63937804]\n",
      " [ 0.99975474  0.89839087  0.88986483  0.99773435  0.8669449 ]\n",
      " [ 0.97401359  0.99544311  0.72966728  0.89136444  0.7791406 ]]\n",
      "\n",
      " np.tan()\n",
      "[[ 0.04611309  0.12082819  0.80001781  0.85744225  0.02109596]\n",
      " [ 0.31631668  0.80315938  1.3167747   0.43438191  0.66307991]\n",
      " [ 1.49495172  0.96489984  0.35649023  0.29827595  1.20256325]\n",
      " [ 0.02215159  0.48887054  0.51268941  0.0674295   0.57489698]\n",
      " [ 0.23253224  0.09579387  0.93714267  0.50853203  0.80453926]]\n"
     ]
    }
   ],
   "source": [
    "# first we create two random arrays:\n",
    "A = np.random.random((5,5))\n",
    "B = np.random.random((5,5))\n",
    "\n",
    "# sum\n",
    "print(\"Sum:\")\n",
    "print( A+B )\n",
    "\n",
    "# subtraction\n",
    "print(\"\\nSubtraction\")\n",
    "print( A-B )\n",
    "\n",
    "# product\n",
    "print(\"\\nProduct\")\n",
    "print( A*B )\n",
    "\n",
    "# matricial product\n",
    "print(\"\\nMatricial Product\")\n",
    "print( np.dot(A,B) )\n",
    "\n",
    "# power\n",
    "print(\"\\n Power\")\n",
    "print( A**2 )\n",
    "\n",
    "# Some common mathematical functions\n",
    "print(\"\\n np.exp()\")\n",
    "print( np.exp(A) )\n",
    "print(\"\\n np.sin()\")\n",
    "print( np.sin(A) )\n",
    "print(\"\\n np.cos()\")\n",
    "print( np.cos(A))\n",
    "print(\"\\n np.tan()\")\n",
    "print( np.tan(A) )"
   ]
  },
  {
   "cell_type": "markdown",
   "metadata": {},
   "source": [
    "### Boolean operations\n",
    "\n",
    "Comparisons in NumPy work exaclty the same way as mathematical operations, i.e, __element wise!__. Let's see some examples:"
   ]
  },
  {
   "cell_type": "code",
   "execution_count": 32,
   "metadata": {},
   "outputs": [
    {
     "name": "stdout",
     "output_type": "stream",
     "text": [
      "A > B:\n",
      "[[False False False]\n",
      " [False False False]\n",
      " [ True  True  True]]\n",
      "\n",
      "A =< B:\n",
      "[[ True  True  True]\n",
      " [ True  True  True]\n",
      " [False False False]]\n",
      "\n",
      " A==B:\n",
      "[[ True  True  True]\n",
      " [False False  True]\n",
      " [False False False]]\n",
      "\n",
      " A!=B:\n",
      "[[False False False]\n",
      " [ True  True False]\n",
      " [ True  True  True]]\n",
      "\n",
      " A and B:\n",
      "[[ True  True  True]\n",
      " [False False  True]\n",
      " [False False False]]\n",
      "\n",
      " A or B:\n",
      "[[ True  True  True]\n",
      " [False False  True]\n",
      " [ True  True  True]]\n",
      "\n",
      " not A:\n",
      "[[False False False]\n",
      " [ True  True False]\n",
      " [ True  True  True]]\n"
     ]
    }
   ],
   "source": [
    "# Creating two 2d-arrays\n",
    "A = np.array( [[1, 2, 3], [2, 3, 5], [1, 9, 6]] )\n",
    "B = np.array( [[1, 2, 3], [3, 5, 5], [0, 8, 5]] )\n",
    "\n",
    "print(\"A > B:\")\n",
    "print( A > B )\n",
    "\n",
    "print(\"\\nA =< B:\")\n",
    "print( A <= B )\n",
    "\n",
    "print(\"\\n A==B:\")\n",
    "print( A==B )\n",
    "\n",
    "print(\"\\n A!=B:\")\n",
    "print( A!=B )\n",
    "\n",
    "# Creating two 2d boolean arrays\n",
    "C = A==B\n",
    "D = A>=B\n",
    "\n",
    "print(\"\\n A and B:\")\n",
    "print( C & D)\n",
    "#print( np.logical_and(C,D) )\n",
    "\n",
    "print(\"\\n A or B:\")\n",
    "print( C | D)\n",
    "#print( np.logical_or(C,D) )\n",
    "\n",
    "print(\"\\n not A:\")\n",
    "print( ~C )\n",
    "#print( np.logical_not(C))"
   ]
  },
  {
   "cell_type": "markdown",
   "metadata": {},
   "source": [
    "<div id='internals' />\n",
    "## Internals of NumPy\n",
    "\n",
    "### The `numpy.ndarray` structure\n",
    "\n",
    "The `ndarray` is the NumPy object that let us create __$N$-dimensional arrays__. It is essentially defined by:\n",
    "1. A number of __dimensions__\n",
    "2. a __shape__\n",
    "3. __strides__\n",
    "4. __data type__ or __dtpe__\n",
    "5. The __data buffer__.\n",
    "\n",
    "<img src='data/ndarray.png' style=\"width: 500px;\">"
   ]
  },
  {
   "cell_type": "code",
   "execution_count": 8,
   "metadata": {},
   "outputs": [
    {
     "name": "stdout",
     "output_type": "stream",
     "text": [
      "Dims: \n",
      "2\n",
      "\n",
      "Shape: \n",
      "(5, 5)\n",
      "\n",
      "Strides: \n",
      "(40, 8)\n",
      "\n",
      "Data type: \n",
      "float64\n"
     ]
    }
   ],
   "source": [
    "# Lets create a random array\n",
    "A = np.random.random((5,5))\n",
    "\n",
    "print(\"Dims: \")\n",
    "print(A.ndim)\n",
    "\n",
    "print(\"\\nShape: \")\n",
    "print(A.shape)\n",
    "\n",
    "print(\"\\nStrides: \")\n",
    "print(A.strides)\n",
    "\n",
    "print(\"\\nData type: \")\n",
    "print(A.dtype)"
   ]
  },
  {
   "cell_type": "markdown",
   "metadata": {},
   "source": [
    "### How an `ndarray` is stored in memory?\n",
    "\n",
    "When there is more than one dimension, there are two ways of storing the elements in the memory block:\n",
    "1. Elements can be stored in __row-major order__ (also known as __C-order__) or,\n",
    "2. In __column-major order__ (also known as __Fortran-order__).\n",
    "\n",
    "<img src='data/ndarray_storage.png' style=\"width: 800px;\">\n",
    "\n",
    "\n",
    "### What are the `strides`?\n",
    "\n",
    "NumPy uses the notion of strides to convert between a multidimensional index and the memory location of the underlying (1D) sequence of elements. \n",
    "\n",
    "For example, the mapping between array[i,j] and the corresponding address the byte is:\n",
    "* `offset = array.strides[0] * i1 + array.strides[1] * i2`\n",
    "* `address = base + offset`\n",
    "where base is the address of the first byte (`array[0,0]`)."
   ]
  },
  {
   "cell_type": "code",
   "execution_count": 13,
   "metadata": {},
   "outputs": [
    {
     "name": "stdout",
     "output_type": "stream",
     "text": [
      "C strides:\n",
      "(16, 8)\n",
      "\n",
      "F strides:\n",
      "(8, 40)\n"
     ]
    }
   ],
   "source": [
    "# Lets create a random array in C-order\n",
    "A = np.random.random((5,2))\n",
    "print(\"C strides:\")\n",
    "print(A.strides)\n",
    "\n",
    "# Lets create a random array in F-order\n",
    "B = np.asfortranarray(A)\n",
    "print(\"\\nF strides:\")\n",
    "print(B.strides)"
   ]
  },
  {
   "cell_type": "markdown",
   "metadata": {},
   "source": [
    "### An interesting result"
   ]
  },
  {
   "cell_type": "code",
   "execution_count": 16,
   "metadata": {
    "collapsed": true
   },
   "outputs": [],
   "source": [
    "X = np.random.random((5000,5000))"
   ]
  },
  {
   "cell_type": "code",
   "execution_count": 18,
   "metadata": {},
   "outputs": [
    {
     "name": "stdout",
     "output_type": "stream",
     "text": [
      "The slowest run took 14.08 times longer than the fastest. This could mean that an intermediate result is being cached.\n",
      "100000 loops, best of 3: 5.3 µs per loop\n"
     ]
    }
   ],
   "source": [
    "%timeit X[0,:].sum()"
   ]
  },
  {
   "cell_type": "code",
   "execution_count": 19,
   "metadata": {},
   "outputs": [
    {
     "name": "stdout",
     "output_type": "stream",
     "text": [
      "The slowest run took 58.49 times longer than the fastest. This could mean that an intermediate result is being cached.\n",
      "10000 loops, best of 3: 49.8 µs per loop\n"
     ]
    }
   ],
   "source": [
    "%timeit X[:,0].sum()"
   ]
  },
  {
   "cell_type": "markdown",
   "metadata": {},
   "source": [
    "### Why Python is so slow?"
   ]
  },
  {
   "cell_type": "markdown",
   "metadata": {},
   "source": [
    "* ** Python is Dynamically Typed rather than Statically Typed.** What this means is that at the time the program executes, the interpreter doesn't know the type of the variables that are defined. <img src='data/cint_vs_pyint.png' style=\"width: 300px;\">\n",
    "* **Python is interpreted rather than compiled.** A smart compiler can look ahead and optimize for repeated or unneeded operations, which can result in speed-ups. \n",
    "* **Python's object model can lead to inefficient memory access.** A NumPy array in its simplest form is a Python object build around a C array. That is, it has a pointer to a contiguous data buffer of values. A Python list, on the other hand, has a pointer to a contiguous buffer of pointers, each of which points to a Python object which in turn has references to its data (in this case, integers). <img src='data/array_vs_list.png' style=\"width: 500px;\">"
   ]
  },
  {
   "cell_type": "markdown",
   "metadata": {},
   "source": [
    "### Why Numpy is so fast?"
   ]
  },
  {
   "cell_type": "markdown",
   "metadata": {},
   "source": [
    "* Computations follow the **Single Instruction Multiple Data** (SIMD) paradigm. So that NumPy can take advantage of vectorized instructions on modern CPUs, like Intel's SSE and AVX, AMD's XOP.\n",
    "<img src='data/devectorized.png' style=\"width: 350px;\", caption='asdf'>\n",
    "<img src='data/vectorized.png' style=\"width: 350px;\">\n",
    "* A NumPy array is described by metadata (number of dimensions, shape, data type, strides, and so on) and the data (which is stored in a **homogeneous and contiguous** blocks of memory).\n",
    "* **Array computations** can be written very efficiently in a low-level language like C (and a large part of NumPy is actually written in C). Aditionally many internal methods and functions are linked to highly optimized linear algebra libraries like **BLAS** (Basic Linear Algebra Subprograms) and **LAPACK** (Linear Algebra PACKage).\n",
    "* **Spatial locality** in memory access patterns results in significant performance gains, notably thanks to the CPU cache.  Indeed, the cache loads bytes in chunks from RAM to the CPU registers."
   ]
  },
  {
   "cell_type": "markdown",
   "metadata": {},
   "source": [
    "### Lets see the problem..."
   ]
  },
  {
   "cell_type": "markdown",
   "metadata": {},
   "source": [
    "Consider the problem of calculating the squared norm of a vector ($\\displaystyle || \\mathbf{v} ||^2 = \\mathbf{v} \\cdot \\mathbf{v}$) with the following 4 implementations:"
   ]
  },
  {
   "cell_type": "code",
   "execution_count": 21,
   "metadata": {
    "collapsed": true
   },
   "outputs": [],
   "source": [
    "#Python Lists implementation\n",
    "def norm_square_list(vector):\n",
    "    norm = 0\n",
    "    for v in vector:\n",
    "        norm += v*v\n",
    "    return norm\n",
    "\n",
    "#Naive NumPy implementation\n",
    "def norm_square_array(vector):\n",
    "    norm = 0\n",
    "    for v in vector:\n",
    "        norm += v*v\n",
    "    return norm\n",
    "\n",
    "#Vectorized NumPy implementation\n",
    "def norm_square_numpy(vector):\n",
    "    return np.sum(vector * vector)\n",
    "\n",
    "#Clever NumPy implementation\n",
    "def norm_square_dot(vector):\n",
    "    return np.dot(vector, vector)\n",
    "\n",
    "#Vector to use - dimension 10^6\n",
    "vector = range(1000000)\n",
    "npvector = np.array(vector)"
   ]
  },
  {
   "cell_type": "code",
   "execution_count": 22,
   "metadata": {},
   "outputs": [
    {
     "name": "stdout",
     "output_type": "stream",
     "text": [
      "10 loops, best of 3: 153 ms per loop\n"
     ]
    }
   ],
   "source": [
    "#Timing the list implementation\n",
    "%timeit norm_square_list(vector)"
   ]
  },
  {
   "cell_type": "code",
   "execution_count": 23,
   "metadata": {},
   "outputs": [
    {
     "name": "stdout",
     "output_type": "stream",
     "text": [
      "1 loop, best of 3: 214 ms per loop\n"
     ]
    }
   ],
   "source": [
    "#Timing the naive array implementation\n",
    "%timeit norm_square_array(npvector)"
   ]
  },
  {
   "cell_type": "code",
   "execution_count": 24,
   "metadata": {},
   "outputs": [
    {
     "name": "stdout",
     "output_type": "stream",
     "text": [
      "100 loops, best of 3: 4.35 ms per loop\n"
     ]
    }
   ],
   "source": [
    "#Timing the NumPy-vectorized implementation\n",
    "%timeit norm_square_numpy(npvector)"
   ]
  },
  {
   "cell_type": "code",
   "execution_count": 25,
   "metadata": {},
   "outputs": [
    {
     "name": "stdout",
     "output_type": "stream",
     "text": [
      "1000 loops, best of 3: 939 µs per loop\n"
     ]
    }
   ],
   "source": [
    "#Timing the clever NumPy-vectorized implementation\n",
    "%timeit norm_square_dot(npvector)"
   ]
  },
  {
   "cell_type": "markdown",
   "metadata": {},
   "source": [
    "As you can see, some interesting things have happened:\n",
    "\n",
    "* The naive NumPy implementation, which iterates over data is actually __slower__ than simply using a list. This is because the *array* stores a  very low-level representation of the numbers it stores , and this **must be converted** into Python-compatible objects before being returned to user, causing this extra overhead each time you index an *array*.\n",
    "* `norm_square_numpy` is slower than the clever NumPy implementation because two reasons:\n",
    "    1. There is time spend in allocating memory for storing the temporary result `(vector x vector)` and\n",
    "    2. This creates two **implied loops**, one to do the multiplication and one to do the sum.\n",
    "* The clever implementation uses *np.dot()* NumPy function which has no need to store intermediate results, and iterates just one time (but at C speed)."
   ]
  },
  {
   "cell_type": "markdown",
   "metadata": {},
   "source": [
    "<div id='efficient' />\n",
    "## Eficient programming with NumPy"
   ]
  },
  {
   "cell_type": "markdown",
   "metadata": {},
   "source": [
    "### In-place and implicit copy operations"
   ]
  },
  {
   "cell_type": "markdown",
   "metadata": {},
   "source": [
    "Prefer in-place over implicit-copy operations whenever possible. This will save memory (less work to garbage collector) and performs faster."
   ]
  },
  {
   "cell_type": "code",
   "execution_count": 26,
   "metadata": {
    "collapsed": true
   },
   "outputs": [],
   "source": [
    "def id(x):\n",
    "    \"\"\"\n",
    "    This function returns the memory\n",
    "    block address of an array.\n",
    "    \"\"\"\n",
    "    return x.__array_interface__['data'][0]"
   ]
  },
  {
   "cell_type": "markdown",
   "metadata": {},
   "source": [
    "Array computations can involve **in-place** operations (first example below: the array is modified) or **implicit-copy** operations (second example: a new array is created)."
   ]
  },
  {
   "cell_type": "code",
   "execution_count": 27,
   "metadata": {
    "collapsed": true
   },
   "outputs": [],
   "source": [
    "a = np.zeros(10); aid = id(a)"
   ]
  },
  {
   "cell_type": "code",
   "execution_count": 28,
   "metadata": {},
   "outputs": [
    {
     "data": {
      "text/plain": [
       "True"
      ]
     },
     "execution_count": 28,
     "metadata": {},
     "output_type": "execute_result"
    }
   ],
   "source": [
    "# in-place operation\n",
    "a *= 2; id(a) == aid"
   ]
  },
  {
   "cell_type": "code",
   "execution_count": 29,
   "metadata": {},
   "outputs": [
    {
     "data": {
      "text/plain": [
       "False"
      ]
     },
     "execution_count": 29,
     "metadata": {},
     "output_type": "execute_result"
    }
   ],
   "source": [
    "# implicit-copy operation\n",
    "a = a * 2; id(a) == aid"
   ]
  },
  {
   "cell_type": "markdown",
   "metadata": {},
   "source": [
    "Be sure to choose the type of operation you actually need. Implicit-copy operations are **slower!**"
   ]
  },
  {
   "cell_type": "code",
   "execution_count": 36,
   "metadata": {},
   "outputs": [
    {
     "name": "stdout",
     "output_type": "stream",
     "text": [
      "1 loop, best of 3: 506 ms per loop\n"
     ]
    }
   ],
   "source": [
    "%%timeit \n",
    "a = np.ones(100000000)\n",
    "a *= 2"
   ]
  },
  {
   "cell_type": "code",
   "execution_count": 37,
   "metadata": {},
   "outputs": [
    {
     "name": "stdout",
     "output_type": "stream",
     "text": [
      "1 loop, best of 3: 881 ms per loop\n"
     ]
    }
   ],
   "source": [
    "%%timeit\n",
    "a = np.ones(100000000)\n",
    "b = a * 2"
   ]
  },
  {
   "cell_type": "markdown",
   "metadata": {},
   "source": [
    "### Efficient memory access"
   ]
  },
  {
   "cell_type": "markdown",
   "metadata": {},
   "source": [
    "We have basically three alternatives to access arrays without loops:\n",
    "\n",
    "1. **array slicing**\n",
    "2. **boolean masks**\n",
    "3. **fancy indexing**. \n",
    "\n",
    "__Note.__ If you find yourself looping over indices to select items on which operation is performed, it can probably be done more efficiently with one of these techniques!"
   ]
  },
  {
   "cell_type": "code",
   "execution_count": 38,
   "metadata": {
    "collapsed": true
   },
   "outputs": [],
   "source": [
    "m, n = 1000000, 100\n",
    "a = np.random.random_sample((m, n))\n",
    "index = np.arange(0, m, 10)"
   ]
  },
  {
   "cell_type": "code",
   "execution_count": 39,
   "metadata": {},
   "outputs": [
    {
     "name": "stdout",
     "output_type": "stream",
     "text": [
      "10 loops, best of 3: 43.6 ms per loop\n"
     ]
    }
   ],
   "source": [
    "#fancy indexing - indexing with lists\n",
    "%timeit a[index]"
   ]
  },
  {
   "cell_type": "code",
   "execution_count": 40,
   "metadata": {},
   "outputs": [
    {
     "name": "stdout",
     "output_type": "stream",
     "text": [
      "The slowest run took 36.01 times longer than the fastest. This could mean that an intermediate result is being cached.\n",
      "1000000 loops, best of 3: 285 ns per loop\n"
     ]
    }
   ],
   "source": [
    "#memory slice - memory views\n",
    "%timeit a[::10]"
   ]
  },
  {
   "cell_type": "markdown",
   "metadata": {},
   "source": [
    "*  Array slices are implemented as __memory views__, i.e, refer to the original data buffer of an array, but with different __offsets__, __shapes__ and __strides__.\n",
    "* Array views should be used whenever possible, but one needs to be careful about the fact that views refer to the original data buffer.\n",
    "* Fancy indexing is several orders of magnitude slower as it involves copying a large array.\n",
    "\n",
    "Another useful indexing technique is the __mask of booleans__. Lets suppose we want to get all the elements on array with value less than 0.5"
   ]
  },
  {
   "cell_type": "code",
   "execution_count": 41,
   "metadata": {},
   "outputs": [
    {
     "data": {
      "text/plain": [
       "array([False, False, False, ...,  True,  True, False], dtype=bool)"
      ]
     },
     "execution_count": 41,
     "metadata": {},
     "output_type": "execute_result"
    }
   ],
   "source": [
    "def naive_indexing(vect):\n",
    "    ret = list()\n",
    "    for val in vect:\n",
    "        if val < 0.5: ret.append(val)\n",
    "    return np.array(ret)\n",
    "\n",
    "#data to occupy and mask of booleans\n",
    "vect = np.random.random_sample(1000000)\n",
    "mask = vect < 0.5\n",
    "mask"
   ]
  },
  {
   "cell_type": "code",
   "execution_count": 42,
   "metadata": {},
   "outputs": [
    {
     "name": "stdout",
     "output_type": "stream",
     "text": [
      "1 loop, best of 3: 218 ms per loop\n"
     ]
    }
   ],
   "source": [
    "#naive indexing\n",
    "%timeit naive_indexing(vect)"
   ]
  },
  {
   "cell_type": "code",
   "execution_count": 45,
   "metadata": {},
   "outputs": [
    {
     "name": "stdout",
     "output_type": "stream",
     "text": [
      "100 loops, best of 3: 7.28 ms per loop\n"
     ]
    }
   ],
   "source": [
    "#mask indexing\n",
    "%timeit vect[mask]"
   ]
  },
  {
   "cell_type": "code",
   "execution_count": 46,
   "metadata": {},
   "outputs": [
    {
     "name": "stdout",
     "output_type": "stream",
     "text": [
      "100 loops, best of 3: 7.67 ms per loop\n"
     ]
    }
   ],
   "source": [
    "#'improved' mask indexing\n",
    "%timeit np.compress(mask, vect)"
   ]
  },
  {
   "cell_type": "markdown",
   "metadata": {},
   "source": [
    "### Broadcasting"
   ]
  },
  {
   "cell_type": "markdown",
   "metadata": {},
   "source": [
    "There is no need to always reshape arrays before operate on them. This useful feature implemented in NumPy arrays is called **Broadcasting rules.** In the visualization below, the extra memory indicated by the dotted boxes is never allocated, but it can be convenient to think about the operations as if it is.\n",
    "<img src='data/broadcasting.png' style=\"width: 600px;\">\n",
    "\n",
    "__How it works:__ The two arrays to be operated must match in at least one dimension. Then the array with less dimensions will __logically__ extended to match the dimensions of the other"
   ]
  },
  {
   "cell_type": "code",
   "execution_count": 31,
   "metadata": {},
   "outputs": [
    {
     "data": {
      "text/plain": [
       "array([5, 6, 7])"
      ]
     },
     "execution_count": 31,
     "metadata": {},
     "output_type": "execute_result"
    }
   ],
   "source": [
    "# array([0,1,2]) + 5\n",
    "np.arange(3) + 5"
   ]
  },
  {
   "cell_type": "code",
   "execution_count": 32,
   "metadata": {},
   "outputs": [
    {
     "data": {
      "text/plain": [
       "array([[ 1.,  2.,  3.],\n",
       "       [ 1.,  2.,  3.],\n",
       "       [ 1.,  2.,  3.]])"
      ]
     },
     "execution_count": 32,
     "metadata": {},
     "output_type": "execute_result"
    }
   ],
   "source": [
    "# array([[1, 1 ,1], [1, 1, 1], [1, 1, 1]]) + array([0, 1, 2])\n",
    "np.ones((3,3)) + np.arange(3)"
   ]
  },
  {
   "cell_type": "code",
   "execution_count": 33,
   "metadata": {},
   "outputs": [
    {
     "data": {
      "text/plain": [
       "array([[0, 1, 2],\n",
       "       [1, 2, 3],\n",
       "       [2, 3, 4]])"
      ]
     },
     "execution_count": 33,
     "metadata": {},
     "output_type": "execute_result"
    }
   ],
   "source": [
    "# array([[0], [1], [2]]) + array([0, 1 ,2])\n",
    "np.arange(3).reshape((3,1)) + np.arange(3)"
   ]
  },
  {
   "cell_type": "markdown",
   "metadata": {},
   "source": [
    "<div id='vectorized' />\n",
    "## Vectorized Algorithms with NumPy"
   ]
  },
  {
   "cell_type": "markdown",
   "metadata": {},
   "source": [
    "**Vectorization:** *The process of converting a scalar implementation, which processes a single pair of operands at a time, to a vector implementation, which processes one operation on multiple pairs of operands at once.*"
   ]
  },
  {
   "cell_type": "markdown",
   "metadata": {},
   "source": [
    "### Example: Gram-Shmidt Orthogonalization"
   ]
  },
  {
   "cell_type": "markdown",
   "metadata": {},
   "source": [
    "**The problem**: Given a matrix $Q_{m\\times n}$ with ($m>n$), find a vector $v$ orthogonal to the column space of $Q$. \n",
    "<img src='data/orthogonalization.jpg' style=\"width: 400px;\">"
   ]
  },
  {
   "cell_type": "code",
   "execution_count": 47,
   "metadata": {
    "collapsed": true
   },
   "outputs": [],
   "source": [
    "def naive_orth(Q,v):\n",
    "    m,n = Q.shape\n",
    "    for j in range(n):\n",
    "        v -= np.dot(Q[:,j],v)*Q[:,j]\n",
    "    return v\n",
    "    \n",
    "def vectorized_orth(Q,v):\n",
    "    proy = np.dot(Q.transpose(),v)\n",
    "    # v -= (proy*Q).sum(axis=1)\n",
    "    v -= np.dot(Q,proy)\n",
    "    return v"
   ]
  },
  {
   "cell_type": "code",
   "execution_count": 48,
   "metadata": {
    "collapsed": true
   },
   "outputs": [],
   "source": [
    "# Let's generate a random unitary matrix\n",
    "# Q unitary matrix, dimensions 100000 x1000\n",
    "m,n = 10000,100\n",
    "A = 10 * np.random.random((m,n))\n",
    "Q,R = np.linalg.qr(A, mode='reduced')\n",
    "del R\n",
    "\n",
    "# v will be the starting vector for orthogonalization\n",
    "v = np.random.random(m)\n",
    "v1 = v.copy()\n",
    "v2 = v.copy()"
   ]
  },
  {
   "cell_type": "code",
   "execution_count": 49,
   "metadata": {},
   "outputs": [
    {
     "name": "stdout",
     "output_type": "stream",
     "text": [
      "100 loops, best of 3: 12 ms per loop\n"
     ]
    }
   ],
   "source": [
    "%timeit naive_orth(Q,v1)"
   ]
  },
  {
   "cell_type": "code",
   "execution_count": 50,
   "metadata": {},
   "outputs": [
    {
     "name": "stdout",
     "output_type": "stream",
     "text": [
      "1000 loops, best of 3: 889 µs per loop\n"
     ]
    }
   ],
   "source": [
    "%timeit vectorized_orth(Q,v2)"
   ]
  },
  {
   "cell_type": "markdown",
   "metadata": {},
   "source": [
    "<div id='bonus' />\n",
    "## Bonus: Useful libraries based in NumPy"
   ]
  },
  {
   "cell_type": "markdown",
   "metadata": {},
   "source": [
    "### numpy.linalg (Numpy's submodule)"
   ]
  },
  {
   "cell_type": "code",
   "execution_count": 44,
   "metadata": {
    "collapsed": true
   },
   "outputs": [],
   "source": [
    "A = np.random.random((100,100))\n",
    "b = np.random.random(100)\n",
    "c = np.random.random(100)\n",
    "\n",
    "### Matrix power ###\n",
    "np.linalg.matrix_power(A,3)\n",
    "\n",
    "### Cholesky decomposition ###\n",
    "#np.linalg.cholesky(A) #A must be positive definite\n",
    "\n",
    "### QR decomposition ###\n",
    "np.linalg.qr(A, mode='reduced')\n",
    "\n",
    "### SVD decomposition ###\n",
    "np.linalg.svd(A, full_matrices=False)\n",
    "\n",
    "### Eigenvectors ###\n",
    "np.linalg.eig(A)\n",
    "\n",
    "### Eigevalues ###\n",
    "np.linalg.eigvals(A)\n",
    "\n",
    "### Matrix or vector norm ###\n",
    "np.linalg.norm(A, ord='fro')\n",
    "\n",
    "### Condition number ###\n",
    "np.linalg.cond(A, p=np.inf)\n",
    "\n",
    "### Determinant ###\n",
    "np.linalg.det(A)\n",
    "\n",
    "### Linear solver Ax=b ###\n",
    "np.linalg.solve(A,b)\n",
    "\n",
    "### Least Squares Ax=b (over-determined) ###\n",
    "np.linalg.lstsq(A,b)\n",
    "\n",
    "### Inverse ###\n",
    "np.linalg.inv(A)\n",
    "\n",
    "### Pseudo-Inverse ###\n",
    "np.linalg.pinv(A)\n",
    "\n",
    "### and many more...\n",
    "del A,b,c"
   ]
  },
  {
   "cell_type": "markdown",
   "metadata": {},
   "source": [
    "### scipy.optimize(SciPy's submodule)"
   ]
  },
  {
   "cell_type": "markdown",
   "metadata": {},
   "source": [
    "* bisect(f, a, b[, args, xtol, rtol, maxiter, ...]) -  \tFind root of a function within an interval.\n",
    "* newton(func, x0[, fprime, args, tol, ...]) -\tFind a zero using the Newton-Raphson or secant method.\n",
    "* fixed_point(func, x0[, args, xtol, maxiter]) -\tFind a fixed point of the function.\n",
    "* root(fun, x0[, args, method, jac, tol, ...]) -\tFind a root of a vector function.\n",
    "* fsolve(func, x0[, args, fprime, ...]) -\tFind the roots of a function."
   ]
  },
  {
   "cell_type": "markdown",
   "metadata": {},
   "source": [
    "### scipy.integrate (Scipy's submodule)"
   ]
  },
  {
   "cell_type": "markdown",
   "metadata": {},
   "source": [
    "* cumtrapz(y[, x, dx, axis, initial]) -\tCumulatively integrate y(x) using the composite trapezoidal rule.\n",
    "* simps(y[, x, dx, axis, even]) -\tIntegrate y(x) using samples along the given axis and the composite Simpson’s rule.\n",
    "* fixed_quad(func, a, b[, args, n]) -\tCompute a definite integral using fixed-order Gaussian quadrature.\n",
    "* quadrature(func, a, b[, args, tol, rtol, ...]) -\tCompute a definite integral using fixed-tolerance Gaussian quadrature.\n",
    "* odeint(func, y0, t[, args, Dfun, col_deriv, ...]) -\tIntegrate a system of ordinary differential equations."
   ]
  },
  {
   "cell_type": "markdown",
   "metadata": {},
   "source": [
    "## References"
   ]
  },
  {
   "cell_type": "markdown",
   "metadata": {},
   "source": [
    "* [*IPython notebook oficial documentation*](http://ipython.readthedocs.org/en/stable/)\n",
    "* [*Time and memory Profiling in IPython*](http://pynash.org/2013/03/06/timing-and-profiling.html)\n",
    "* [*Getting the best performance out of NumPy*](http://ipython-books.github.io/featured-01/)\n",
    "* [*Why Python is slow*](https://jakevdp.github.io/blog/2014/05/09/why-python-is-slow/)\n",
    "* [*High Performance Python: Practical Performant Programming for Humans*](https://books.google.cl/books?id=bIZaBAAAQBAJ&pg=PA115&lpg=PA115&dq#v=onepage&q&f=false)"
   ]
  }
 ],
 "metadata": {
  "kernelspec": {
   "display_name": "Python 3",
   "language": "python",
   "name": "python3"
  },
  "language_info": {
   "codemirror_mode": {
    "name": "ipython",
    "version": 3
   },
   "file_extension": ".py",
   "mimetype": "text/x-python",
   "name": "python",
   "nbconvert_exporter": "python",
   "pygments_lexer": "ipython3",
   "version": "3.6.1"
  }
 },
 "nbformat": 4,
 "nbformat_minor": 1
}
