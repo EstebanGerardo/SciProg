{
 "cells": [
  {
   "cell_type": "markdown",
   "metadata": {},
   "source": [
    "<center>\n",
    "    <h1> Scientific Programming in Python  </h1>\n",
    "    <h2> Topic 4: Just in Time Compilation: Numba and NumExpr </h2> \n",
    "</center>\n",
    "\n",
    "_Notebook created by Martín Villanueva - `martin.villanueva@usm.cl` - DI UTFSM - April 2017._"
   ]
  },
  {
   "cell_type": "code",
   "execution_count": 1,
   "metadata": {
    "collapsed": true
   },
   "outputs": [],
   "source": [
    "import numba\n",
    "import numpy as np\n",
    "import numexpr as ne\n",
    "import matplotlib.pyplot as plt"
   ]
  },
  {
   "cell_type": "markdown",
   "metadata": {
    "collapsed": true
   },
   "source": [
    "En esta actividad implementaremos una conocida métrica para medir disimilitud entre conjuntos: __La métrica de Hausdorff__. Esta corresponde a un métrica o distancia ocupada para medir cuán disímiles son dos subconjuntos dados. \n",
    "\n",
    "\n",
    "Esta tiene muchas aplicaciones, en particular para comparar el parecido entre imágenes. En el caso en donde los conjuntos son arreglos bidimensionales, la definición es la siguiente:\n",
    "\n",
    "Sean $X \\in \\mathbb{R}^{m \\times 3}$ e  $Y \\in \\mathbb{R}^{n \\times 3}$ dos matrices, la métrica/distancia de Hausdorff sobre sobre estas como:\n",
    "\n",
    "$$\n",
    "d_H(X,Y) = \\max \\left(\\ \\max_{i\\leq m} \\min_{j \\leq n} d(X[i],Y[j]), \\ \\max_{j\\leq n} \\min_{i \\leq m} d(Y[j],X[i]) \\ \\right)\n",
    "$$\n",
    "\n",
    "donde $d$ es la _distancia Euclideana_ clásica. ($X[i]$ indíca la i-ésima fila de X).\n",
    "\n",
    "__Ilustración unidimensional:__ Distancia entre funciones.\n",
    "<img src='data/hausdorff.png' style=\"width: 600px;\">"
   ]
  },
  {
   "cell_type": "markdown",
   "metadata": {},
   "source": [
    "1. Implemente la métrica de Hausdorff en Python clásico.\n",
    "2. Implemente la métrica de Hausdorff usando Numba (Forzando el modo __nopython__ y definiendo explícitamente las _signatures_ de las funciones).\n",
    "3. Cree `10` arreglos $X,Y$ aleatorios, con cantidad creciente de filas, y realice análsis de tiempos de ejecuciones de las funciones anteriores sobre estos arreglos.\n",
    "4. Concluya."
   ]
  },
  {
   "cell_type": "markdown",
   "metadata": {},
   "source": [
    "### Paso 1."
   ]
  },
  {
   "cell_type": "code",
   "execution_count": 2,
   "metadata": {
    "collapsed": true
   },
   "outputs": [],
   "source": [
    "def metric_python(x, y):\n",
    "    \"\"\"\n",
    "    standard Euclidean distance\n",
    "    \"\"\"\n",
    "    ret = x-y\n",
    "    ret *= ret\n",
    "    return np.sqrt(ret).sum()\n",
    "\n",
    "\n",
    "def inf_dist_python(x, Y):\n",
    "    \"\"\"\n",
    "    inf distance between row x and array Y\n",
    "    \"\"\"\n",
    "    m = Y.shape[0]\n",
    "    inf = np.inf\n",
    "    \n",
    "    for i in range(m):\n",
    "        dist = metric_python(x, Y[i])\n",
    "        if dist < inf:\n",
    "            inf = dist\n",
    "    return inf\n",
    "\n",
    "def hausdorff_python(X, Y):\n",
    "    \"\"\"\n",
    "    Hausdorff distance between arrays X and Y\n",
    "    \"\"\"\n",
    "    m = X.shape[0]\n",
    "    n = Y.shape[0]\n",
    "    sup1 = -1.\n",
    "    sup2 = -1.\n",
    "    \n",
    "    for i in range(m):\n",
    "        inf1 = inf_dist_python(X[i], Y)\n",
    "        if inf1 > sup1:\n",
    "            sup1 = inf1\n",
    "    for i in range(n):\n",
    "        inf2 = inf_dist_python(Y[i], X)\n",
    "        if inf2 > sup2:\n",
    "            sup2 = inf2\n",
    "            \n",
    "    return max(sup1, sup2)"
   ]
  },
  {
   "cell_type": "markdown",
   "metadata": {},
   "source": [
    "### Paso 2.\n",
    "Notar que los cambios son mínimos: Decoradores + nombres de funciones."
   ]
  },
  {
   "cell_type": "code",
   "execution_count": 3,
   "metadata": {
    "collapsed": true
   },
   "outputs": [],
   "source": [
    "@numba.jit('float64 (float64[:], float64[:])')\n",
    "def metric_numba(x, y):\n",
    "    \"\"\"\n",
    "    standard Euclidean distance\n",
    "    \"\"\"\n",
    "    ret = x-y\n",
    "    ret *= ret\n",
    "    return np.sqrt(ret).sum()\n",
    "\n",
    "\n",
    "@numba.jit('float64 (float64[:], float64[:,:])', nopython=True)\n",
    "def inf_dist_numba(x, Y):\n",
    "    \"\"\"\n",
    "    inf distance between row x and array Y\n",
    "    \"\"\"\n",
    "    m = Y.shape[0]\n",
    "    inf = np.inf\n",
    "    \n",
    "    for i in range(m):\n",
    "        dist = metric_numba(x, Y[i])\n",
    "        if dist < inf:\n",
    "            inf = dist\n",
    "    return inf\n",
    "\n",
    "@numba.jit('float64 (float64[:,:], float64[:,:])', nopython=True)\n",
    "def hausdorff_numba(X, Y):\n",
    "    \"\"\"\n",
    "    Hausdorff distance between arrays X and Y\n",
    "    \"\"\"\n",
    "    m = X.shape[0]\n",
    "    n = Y.shape[0]\n",
    "    sup1 = -1.\n",
    "    sup2 = -1.\n",
    "    \n",
    "    for i in range(m):\n",
    "        inf1 = inf_dist_numba(X[i], Y)\n",
    "        if inf1 > sup1:\n",
    "            sup1 = inf1\n",
    "    for i in range(n):\n",
    "        inf2 = inf_dist_numba(Y[i], X)\n",
    "        if inf2 > sup2:\n",
    "            sup2 = inf2\n",
    "            \n",
    "    return max(sup1, sup2)"
   ]
  },
  {
   "cell_type": "markdown",
   "metadata": {},
   "source": [
    "### Paso 3."
   ]
  },
  {
   "cell_type": "code",
   "execution_count": 4,
   "metadata": {},
   "outputs": [
    {
     "name": "stdout",
     "output_type": "stream",
     "text": [
      "10 loops, best of 3: 96.9 ms per loop\n",
      "100 loops, best of 3: 10.3 ms per loop\n",
      "Number of rows: 100\n",
      "Best time in Python: 0.09689636600087397\n",
      "Best time in Numba: 0.010275031779892743 \n",
      "\n",
      "1 loop, best of 3: 4.03 s per loop\n",
      "1 loop, best of 3: 420 ms per loop\n",
      "Number of rows: 644\n",
      "Best time in Python: 4.0261467099771835\n",
      "Best time in Numba: 0.4199122780119069 \n",
      "\n",
      "1 loop, best of 3: 13.6 s per loop\n",
      "1 loop, best of 3: 1.44 s per loop\n",
      "Number of rows: 1188\n",
      "Best time in Python: 13.602671164029744\n",
      "Best time in Numba: 1.4442056000116281 \n",
      "\n",
      "1 loop, best of 3: 28.8 s per loop\n",
      "1 loop, best of 3: 3.07 s per loop\n",
      "Number of rows: 1733\n",
      "Best time in Python: 28.812231293006334\n",
      "Best time in Numba: 3.074851111974567 \n",
      "\n",
      "1 loop, best of 3: 50 s per loop\n",
      "1 loop, best of 3: 5.38 s per loop\n",
      "Number of rows: 2277\n",
      "Best time in Python: 49.96447215799708\n",
      "Best time in Numba: 5.381338081031572 \n",
      "\n",
      "1 loop, best of 3: 1min 20s per loop\n",
      "1 loop, best of 3: 8.18 s per loop\n",
      "Number of rows: 2822\n",
      "Best time in Python: 80.22970647504553\n",
      "Best time in Numba: 8.180889984010719 \n",
      "\n",
      "1 loop, best of 3: 1min 54s per loop\n",
      "1 loop, best of 3: 11.5 s per loop\n",
      "Number of rows: 3366\n",
      "Best time in Python: 114.21166667999933\n",
      "Best time in Numba: 11.538127077976242 \n",
      "\n",
      "1 loop, best of 3: 2min 36s per loop\n",
      "1 loop, best of 3: 15.5 s per loop\n",
      "Number of rows: 3911\n",
      "Best time in Python: 156.53557300998364\n",
      "Best time in Numba: 15.49025035899831 \n",
      "\n",
      "1 loop, best of 3: 3min 13s per loop\n",
      "1 loop, best of 3: 20.9 s per loop\n",
      "Number of rows: 4455\n",
      "Best time in Python: 193.120016134053\n",
      "Best time in Numba: 20.861760444997344 \n",
      "\n",
      "1 loop, best of 3: 4min per loop\n",
      "1 loop, best of 3: 25.7 s per loop\n",
      "Number of rows: 5000\n",
      "Best time in Python: 240.2516234299983\n",
      "Best time in Numba: 25.672869634989183 \n",
      "\n"
     ]
    }
   ],
   "source": [
    "#nrows = [10**n for n in range(10)]\n",
    "nrows = np.linspace(100,5000,10).astype(int)\n",
    "\n",
    "for nrow in nrows:\n",
    "    X = np.random.random((nrow,3))\n",
    "    Y = np.random.random((nrow,3))\n",
    "    tp = %timeit -o hausdorff_python(X,Y)\n",
    "    tn = %timeit -o hausdorff_numba(X,Y)\n",
    "    print(\"Number of rows: {0}\".format(nrow))\n",
    "    print(\"Best time in Python: {0}\".format(tp.best))\n",
    "    print(\"Best time in Numba: {0} \\n\".format(tn.best))\n",
    "    del X,Y"
   ]
  },
  {
   "cell_type": "markdown",
   "metadata": {},
   "source": [
    "### Paso 4.\n",
    "\n",
    "Gracias a la compilación en tiempo real, los resultados muestran que `Numba` es ordenes de magnitud más rápido que una implemetación nativa con `Python+NumPy`."
   ]
  }
 ],
 "metadata": {
  "kernelspec": {
   "display_name": "Python 3",
   "language": "python",
   "name": "python3"
  },
  "language_info": {
   "codemirror_mode": {
    "name": "ipython",
    "version": 3
   },
   "file_extension": ".py",
   "mimetype": "text/x-python",
   "name": "python",
   "nbconvert_exporter": "python",
   "pygments_lexer": "ipython3",
   "version": "3.6.1"
  }
 },
 "nbformat": 4,
 "nbformat_minor": 2
}
