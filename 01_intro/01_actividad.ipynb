{
 "cells": [
  {
   "cell_type": "markdown",
   "metadata": {},
   "source": [
    "<center>\n",
    "    <h1> Scientific Programming in Python  </h1>\n",
    "    <h2> Topic 1: Introduction and basic tools </h2> \n",
    "</center>\n",
    "\n",
    "_Notebook created by Martín Villanueva - `martin.villanueva@usm.cl` - DI UTFSM - April 2017._"
   ]
  },
  {
   "cell_type": "markdown",
   "metadata": {},
   "source": [
    "## Actividad #1\n",
    "\n",
    "Desarrolle una extensión de `IPython` (llamada `2to3_ext.py`) implementando un `cell magic`, que reciba en su celda un código en `Python2`, lo transforme a código compatible con `Python3`, y finalmente lo ejecute en una instancia del `IPython3`, imprimiendo en la salida. \n",
    "\n",
    "La entrega consiste en la extensión (`2to3_ext.py`) + un notebook de ejemplo de su extensión ejecutada con el código de a continuación:\n",
    "\n",
    "```python\n",
    "a = float(raw_input(\"Ingrese a: \"))\n",
    "b = float(raw_input(\"Ingrese b: \"))\n",
    "c = float(raw_input(\"Ingrese c: \"))\n",
    "\n",
    "if a>(b+c) or b>(a+c) or c>(a+b):\n",
    "\tprint \"Ingrese un traingulo valido.\"\n",
    "elif a==b and b==c:\n",
    "\tprint \"Triangulo equilatero.\"\n",
    "elif a==b or b==c or a==c:\n",
    "\tprint \"Triangulo isoceles.\"\n",
    "else:\n",
    "\tprint \"Triangulo escaleno.\"\n",
    "```\n",
    "\n",
    "**Nota:** Consideraremos que las únicas diferencias entre `Python2` y `Python3` son los `print`."
   ]
  }
 ],
 "metadata": {
  "kernelspec": {
   "display_name": "Python 3",
   "language": "python",
   "name": "python3"
  },
  "language_info": {
   "codemirror_mode": {
    "name": "ipython",
    "version": 3
   },
   "file_extension": ".py",
   "mimetype": "text/x-python",
   "name": "python",
   "nbconvert_exporter": "python",
   "pygments_lexer": "ipython3",
   "version": "3.6.0"
  }
 },
 "nbformat": 4,
 "nbformat_minor": 2
}
