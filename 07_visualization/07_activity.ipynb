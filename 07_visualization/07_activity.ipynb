{
 "cells": [
  {
   "cell_type": "markdown",
   "metadata": {},
   "source": [
    "<h1 align=\"center\">Scientific Programming in Python</h1>\n",
    "<h2 align=\"center\">Topic 7: Basics of Data Visualization  </h2> \n",
    "\n",
    "\n",
    "_Notebook created by Martín Villanueva - `martin.villanueva@usm.cl` - DI UTFSM - May 2017._"
   ]
  },
  {
   "cell_type": "code",
   "execution_count": 3,
   "metadata": {
    "collapsed": true
   },
   "outputs": [],
   "source": [
    "import numba\n",
    "import numexpr as ne\n",
    "import numpy as np\n",
    "import matplotlib.pyplot as plt\n",
    "import matplotlib.image as mpimg"
   ]
  },
  {
   "cell_type": "markdown",
   "metadata": {
    "collapsed": true
   },
   "source": [
    "En la presente actividad simularemos y visualizaremos un sistema dinámico 2-dimensional simple. Para ello resolveromos una EDO numéricamente, utilizando el _método de Euler_. \n",
    "\n",
    "Consideremos un sistema de $N$ partículas $(x_i(t), y_i(t))$ en el dominio $[0,1]\\times[0,1]$, cuyo movimiento se rige por las siguientes ecuaciones (EDOs autónomas):\n",
    "\n",
    "\\begin{align}\n",
    "\\frac{dx}{dt} &= \\text{tanh}(x^2+y^2), \\text{ con } x(0)=x_0, \\\\\n",
    "\\frac{dy}{dt} &= \\text{tanh}(x^2+y^2), \\text{ con } y(0)=y_0 \\\\\n",
    "\\end{align}\n",
    "\n",
    "El _método de Euler_ para resolver este problema numéricamente, consiste en realizar la siguiente aproximación para la derivada:\n",
    "\n",
    "\\begin{align}\n",
    "\\frac{x_{i+1}-x_i}{\\Delta t} =  \\text{tanh}(x_i^2+y_i^2) \\rightarrow x_{i+1} = x_i + \\Delta t \\cdot \\text{tanh}(x_i^2+y_i^2) \\\\\n",
    "\\frac{y_{i+1}-y_i}{\\Delta t} =  \\text{tanh}(x_i^2+y_i^2) \\rightarrow y_{i+1} = y_i + \\Delta t \\cdot \\text{tanh}(x_i^2+y_i^2)\n",
    "\\end{align}\n",
    "\n",
    "ocupando las condiciones iniciales $x_0$ e $y_0$ como puntos de partida. Aquí $\\Delta t$ (_time step_) es un parámetro definido por usted, y usualmente toma valores pequeños.\n",
    "\n",
    "__Notar__ que esta ecuación es válida para una partícula, y por tanto para simular un sistema de $N$ de estas, es necesario realizar esta actualización para cada partícula $(x_i,y_i)$ con $i \\in [1,N]$.\n",
    "\n",
    "__Se solicita que realice lo siguiente__:\n",
    "1. Genere un conjunto de `100` puntos aleatoriamente distribuidos en el espacio $[0,1]\\times[0,1]$ (Seran usados como posiciones iniciales del sistema). Grafíque el conjunto de puntos obtenidos.\n",
    "2. Realizar un gráfico de la función que define el comportamiento del sistema: $f(z) = \\text{tanh}(z^2)$ (gráfico unidimensional).\n",
    "3. Desarrollar la función `simular(x0, y0, dt, tf)` que reciba los `np.ndarray` con las coordenadas iniciales `x0` e `y0` del sistema, el _time step_ `dt` (seleccione un valor pequeño $\\sim 0.01$) y el tiempo final de simulación. Esta función debe graficar el conjunto de puntos del sistema, en su tiempo final.\n",
    "4. Usando `interact` desarrolle un _widget_ para visualizar interactivamente distintos estados finales del sistema (distintos `tf`)."
   ]
  },
  {
   "cell_type": "code",
   "execution_count": null,
   "metadata": {
    "collapsed": true
   },
   "outputs": [],
   "source": []
  }
 ],
 "metadata": {
  "kernelspec": {
   "display_name": "Python 3",
   "language": "python",
   "name": "python3"
  },
  "language_info": {
   "codemirror_mode": {
    "name": "ipython",
    "version": 3
   },
   "file_extension": ".py",
   "mimetype": "text/x-python",
   "name": "python",
   "nbconvert_exporter": "python",
   "pygments_lexer": "ipython3",
   "version": "3.6.1"
  }
 },
 "nbformat": 4,
 "nbformat_minor": 2
}
