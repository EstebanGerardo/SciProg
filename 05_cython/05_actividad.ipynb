{
 "cells": [
  {
   "cell_type": "markdown",
   "metadata": {},
   "source": [
    "<h1 align=\"center\">Scientific Programming in Python</h1>\n",
    "<h2 align=\"center\">Topic 5: Accelerating Python with Cython: Writting C in Python </h2> \n",
    "\n",
    "\n",
    "_Notebook created by Martín Villanueva - `martin.villanueva@usm.cl` - DI UTFSM - May2017._"
   ]
  },
  {
   "cell_type": "code",
   "execution_count": 2,
   "metadata": {},
   "outputs": [
    {
     "name": "stdout",
     "output_type": "stream",
     "text": [
      "The Cython extension is already loaded. To reload it, use:\n",
      "  %reload_ext Cython\n"
     ]
    }
   ],
   "source": [
    "import numba\n",
    "import numpy as np\n",
    "from math import sqrt\n",
    "\n",
    "%load_ext Cython"
   ]
  },
  {
   "cell_type": "markdown",
   "metadata": {
    "collapsed": true
   },
   "source": [
    "## La distancia de Hausdorff nuevamente...\n",
    "\n",
    "En esta actividad volveremos a implementar la distancia/métrica de Hausdorff, pero ahora utilizando Cython.\n",
    "\n",
    "__La métrica de Hausdorff__ corresponde a un métrica o distancia ocupada para medir cuán disímiles son dos subconjuntos dados. \n",
    "\n",
    "Esta tiene muchas aplicaciones, en particular para comparar el parecido entre imágenes. En el caso en donde los conjuntos son arreglos bidimensionales, la definición es la siguiente:\n",
    "\n",
    "Sean $X \\in \\mathbb{R}^{m \\times 3}$ e  $Y \\in \\mathbb{R}^{n \\times 3}$ dos matrices, la métrica/distancia de Hausdorff sobre sobre estas como:\n",
    "\n",
    "$$\n",
    "d_H(X,Y) = \\max \\left(\\ \\max_{i\\leq m} \\min_{j \\leq n} d(X[i],Y[j]), \\ \\max_{j\\leq n} \\min_{i \\leq m} d(Y[j],X[i]) \\ \\right)\n",
    "$$\n",
    "\n",
    "donde $d$ es la _distancia Euclideana_ clásica. ($X[i]$ indíca la i-ésima fila de X).\n",
    "\n",
    "__Ilustración unidimensional:__ Distancia entre funciones.\n",
    "<img src='data/hausdorff.png' style=\"width: 600px;\">"
   ]
  },
  {
   "cell_type": "markdown",
   "metadata": {},
   "source": [
    "A continuación se le proveen 3 funciones que implementan tal métrica, usando __Numba__."
   ]
  },
  {
   "cell_type": "code",
   "execution_count": null,
   "metadata": {
    "collapsed": true
   },
   "outputs": [],
   "source": [
    "@numba.jit('float64 (float64[:], float64[:])')\n",
    "def metric_numba(x, y):\n",
    "    \"\"\"\n",
    "    standard Euclidean distance\n",
    "    \"\"\"\n",
    "    ret = x-y\n",
    "    ret *= ret\n",
    "    return np.sqrt(ret).sum()\n",
    "\n",
    "\n",
    "@numba.jit('float64 (float64[:], float64[:,:])', nopython=True)\n",
    "def inf_dist_numba(x, Y):\n",
    "    \"\"\"\n",
    "    inf distance between row x and array Y\n",
    "    \"\"\"\n",
    "    m = Y.shape[0]\n",
    "    inf = np.inf\n",
    "    \n",
    "    for i in range(m):\n",
    "        dist = metric_numba(x, Y[i])\n",
    "        if dist < inf:\n",
    "            inf = dist\n",
    "    return inf\n",
    "\n",
    "@numba.jit('float64 (float64[:,:], float64[:,:])', nopython=True)\n",
    "def hausdorff_numba(X, Y):\n",
    "    \"\"\"\n",
    "    Hausdorff distance between arrays X and Y\n",
    "    \"\"\"\n",
    "    m = X.shape[0]\n",
    "    n = Y.shape[0]\n",
    "    sup1 = -1.\n",
    "    sup2 = -1.\n",
    "    \n",
    "    for i in range(m):\n",
    "        inf1 = inf_dist_numba(X[i], Y)\n",
    "        if inf1 > sup1:\n",
    "            sup1 = inf1\n",
    "    for i in range(n):\n",
    "        inf2 = inf_dist_numba(Y[i], X)\n",
    "        if inf2 > sup2:\n",
    "            sup2 = inf2\n",
    "            \n",
    "    return max(sup1, sup2)"
   ]
  },
  {
   "cell_type": "markdown",
   "metadata": {},
   "source": [
    "Se solicita que realice lo siguiente:\n",
    "\n",
    "1. Escribir el equivalente __Cython__ de las tres funciones anteriores, ocupando todas las optimizaciones posibles: __Compiler directives__, __Memory Views__, __Inline Functions__, __Pure C functions__ o cualquier otra optimización que usted considere conveniente.\n",
    "2. Cree `10` arreglos $X,Y$ aleatorios, con cantidad creciente de filas, y realice análsis de tiempos de ejecuciones de las versiones __Numba__ y __Cython__ de las funciontes anteriores sobre estos arreglos.\n",
    "3. Concluya."
   ]
  },
  {
   "cell_type": "code",
   "execution_count": null,
   "metadata": {
    "collapsed": true
   },
   "outputs": [],
   "source": []
  }
 ],
 "metadata": {
  "kernelspec": {
   "display_name": "Python 3",
   "language": "python",
   "name": "python3"
  },
  "language_info": {
   "codemirror_mode": {
    "name": "ipython",
    "version": 3
   },
   "file_extension": ".py",
   "mimetype": "text/x-python",
   "name": "python",
   "nbconvert_exporter": "python",
   "pygments_lexer": "ipython3",
   "version": "3.6.1"
  }
 },
 "nbformat": 4,
 "nbformat_minor": 2
}
